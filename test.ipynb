{
 "cells": [
  {
   "cell_type": "code",
   "execution_count": 15,
   "metadata": {},
   "outputs": [
    {
     "name": "stdout",
     "output_type": "stream",
     "text": [
      "tensor([[4, 3, 1, 0],\n",
      "        [5, 4, 2, 1],\n",
      "        [7, 6, 4, 3],\n",
      "        [8, 7, 5, 4]])\n"
     ]
    }
   ],
   "source": [
    "import torch\n",
    "win_h = 2\n",
    "win_w = 2\n",
    "\n",
    "coords = torch.stack(torch.meshgrid([torch.arange(win_h), torch.arange(win_w)]))  # 2, Wh, Ww\n",
    "coords_flatten = torch.flatten(coords, 1)  # 2, Wh*Ww\n",
    "relative_coords = coords_flatten[:, :, None] - coords_flatten[:, None, :]  # 2, Wh*Ww, Wh*Ww\n",
    "# relative_coords = relative_coords.permute(1, 2, 0).contiguous()  # Wh*Ww, Wh*Ww, 2\n",
    "relative_coords[0, :, :] += win_h - 1  # shift to start from 0\n",
    "relative_coords[1, :, :] += win_w - 1\n",
    "relative_coords[0, :, :] *= 2 * win_w - 1\n",
    "# relative_coords.sum(0)\n",
    "# relative_coords = relative_coords.permute(1, 2, 0).contiguous()  # Wh*Ww, Wh*Ww, 2\n",
    "\n",
    "# relative_coords[:, :, 0] *= 2 * win_w - 1\n",
    "# print(type(coords_flatten))\n",
    "# print(coords_flatten[:, :, None])\n",
    "# print(coords_flatten[:, None, :])\n",
    "print(relative_coords.sum(0))"
   ]
  },
  {
   "cell_type": "code",
   "execution_count": 39,
   "metadata": {},
   "outputs": [
    {
     "name": "stdout",
     "output_type": "stream",
     "text": [
      "slice(0, -2, None) slice(0, -2, None)\n",
      "slice(0, -2, None) slice(-2, -1, None)\n",
      "slice(0, -2, None) slice(-1, None, None)\n",
      "slice(-2, -1, None) slice(0, -2, None)\n",
      "slice(-2, -1, None) slice(-2, -1, None)\n",
      "slice(-2, -1, None) slice(-1, None, None)\n",
      "slice(-1, None, None) slice(0, -2, None)\n",
      "slice(-1, None, None) slice(-2, -1, None)\n",
      "slice(-1, None, None) slice(-1, None, None)\n",
      "tensor([[[[0.],\n",
      "          [0.],\n",
      "          [1.],\n",
      "          [2.]],\n",
      "\n",
      "         [[0.],\n",
      "          [0.],\n",
      "          [1.],\n",
      "          [2.]],\n",
      "\n",
      "         [[3.],\n",
      "          [3.],\n",
      "          [4.],\n",
      "          [5.]],\n",
      "\n",
      "         [[6.],\n",
      "          [6.],\n",
      "          [7.],\n",
      "          [8.]]]])\n"
     ]
    }
   ],
   "source": [
    "H,W = 4,4\n",
    "win_h = 2\n",
    "win_w = 2\n",
    "window_size = (win_h, win_w)\n",
    "shift_size = (win_h // 2, win_w // 2)\n",
    "img_mask = torch.zeros((1, H, W, 1))  # 1 H W 1\n",
    "cnt = 0\n",
    "for h in (\n",
    "        slice(0, -window_size[0]),\n",
    "        slice(-window_size[0], -shift_size[0]),\n",
    "        slice(-shift_size[0], None)):\n",
    "    for w in (\n",
    "            slice(0, -window_size[1]),\n",
    "            slice(-window_size[1], -shift_size[1]),\n",
    "            slice(-shift_size[1], None)):\n",
    "        print(h,w)\n",
    "        img_mask[:, h, w, :] = cnt\n",
    "        cnt += 1\n",
    "\n",
    "print(img_mask)"
   ]
  },
  {
   "cell_type": "code",
   "execution_count": 64,
   "metadata": {},
   "outputs": [
    {
     "name": "stdout",
     "output_type": "stream",
     "text": [
      "tensor([[0., 0., 1., 2.],\n",
      "        [0., 0., 1., 2.],\n",
      "        [3., 3., 4., 5.],\n",
      "        [6., 6., 7., 8.]])\n",
      "tensor([[0., 0., 0., 0.],\n",
      "        [1., 2., 1., 2.],\n",
      "        [3., 3., 6., 6.],\n",
      "        [4., 5., 7., 8.]])\n"
     ]
    },
    {
     "data": {
      "text/plain": [
       "tensor([[[ 0.,  0.,  0.,  0.],\n",
       "         [ 0.,  0.,  0.,  0.],\n",
       "         [ 0.,  0.,  0.,  0.],\n",
       "         [ 0.,  0.,  0.,  0.]],\n",
       "\n",
       "        [[ 0.,  1.,  0.,  1.],\n",
       "         [-1.,  0., -1.,  0.],\n",
       "         [ 0.,  1.,  0.,  1.],\n",
       "         [-1.,  0., -1.,  0.]],\n",
       "\n",
       "        [[ 0.,  0.,  3.,  3.],\n",
       "         [ 0.,  0.,  3.,  3.],\n",
       "         [-3., -3.,  0.,  0.],\n",
       "         [-3., -3.,  0.,  0.]],\n",
       "\n",
       "        [[ 0.,  1.,  3.,  4.],\n",
       "         [-1.,  0.,  2.,  3.],\n",
       "         [-3., -2.,  0.,  1.],\n",
       "         [-4., -3., -1.,  0.]]])"
      ]
     },
     "execution_count": 64,
     "metadata": {},
     "output_type": "execute_result"
    }
   ],
   "source": [
    "def window_partition(\n",
    "        x: torch.Tensor,\n",
    "        window_size: [int, int],\n",
    ") -> torch.Tensor:\n",
    "    \"\"\"\n",
    "    Partition into non-overlapping windows with padding if needed.\n",
    "    Args:\n",
    "        x (tensor): input tokens with [B, H, W, C].\n",
    "        window_size (int): window size.\n",
    "\n",
    "    Returns:\n",
    "        windows: windows after partition with [B * num_windows, window_size, window_size, C].\n",
    "        (Hp, Wp): padded height and width before partition\n",
    "    \"\"\"\n",
    "    B, H, W, C = x.shape\n",
    "    x = x.view(B, H // window_size[0], window_size[0], W // window_size[1], window_size[1], C)\n",
    "    windows = x.permute(0, 1, 3, 2, 4, 5).contiguous().view(-1, window_size[0], window_size[1], C)\n",
    "    #       (B, H // window_size[0], W // window_size[1], window_size[0], window_size[1], C)\n",
    "    #     ->(B * num_windows, window_size, window_size, C)\n",
    "    return windows\n",
    "print(img_mask[0,:,:,0])\n",
    "mask_windows = window_partition(img_mask, [2, 2])\n",
    "mask_windows = mask_windows.view(-1, 4)\n",
    "print(mask_windows)\n",
    "attn_mask = mask_windows.unsqueeze(1) - mask_windows.unsqueeze(2)\n",
    "attn_mask\n",
    "# attn_mask = attn_mask.masked_fill(attn_mask != 0, float(-100.0)).masked_fill(attn_mask == 0, float(0.0))\n",
    "# attn_mask.view(-1)"
   ]
  },
  {
   "cell_type": "code",
   "execution_count": 60,
   "metadata": {},
   "outputs": [
    {
     "data": {
      "text/plain": [
       "tensor([[0, 1, 2],\n",
       "        [3, 4, 5],\n",
       "        [6, 7, 8]])"
      ]
     },
     "execution_count": 60,
     "metadata": {},
     "output_type": "execute_result"
    }
   ],
   "source": [
    "x = torch.arange(9)\n"
   ]
  }
 ],
 "metadata": {
  "kernelspec": {
   "display_name": "test",
   "language": "python",
   "name": "python3"
  },
  "language_info": {
   "codemirror_mode": {
    "name": "ipython",
    "version": 3
   },
   "file_extension": ".py",
   "mimetype": "text/x-python",
   "name": "python",
   "nbconvert_exporter": "python",
   "pygments_lexer": "ipython3",
   "version": "3.7.2"
  }
 },
 "nbformat": 4,
 "nbformat_minor": 2
}
